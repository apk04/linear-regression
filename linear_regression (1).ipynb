{
  "nbformat": 4,
  "nbformat_minor": 0,
  "metadata": {
    "colab": {
      "provenance": []
    },
    "kernelspec": {
      "name": "python3",
      "display_name": "Python 3"
    },
    "language_info": {
      "name": "python"
    }
  },
  "cells": [
    {
      "cell_type": "code",
      "execution_count": null,
      "metadata": {
        "id": "FBER-FhS8JF6"
      },
      "outputs": [],
      "source": [
        "import pandas as pd\n",
        "import matplotlib.pyplot as plt"
      ]
    },
    {
      "cell_type": "code",
      "source": [
        "import numpy as np"
      ],
      "metadata": {
        "id": "Q9VJNzo68ed0"
      },
      "execution_count": null,
      "outputs": []
    },
    {
      "cell_type": "code",
      "source": [
        "xtrain=np.array([1,2,3,4,5,7,10])\n",
        "ytrain=np.array([0,0.5,0.6,1,2,4,5])\n",
        "plt.scatter(xtrain,ytrain)\n",
        "plt.title('scatter plot')\n",
        "plt.xlabel('X train data')\n",
        "plt.ylabel('y train data')"
      ],
      "metadata": {
        "colab": {
          "base_uri": "https://localhost:8080/",
          "height": 489
        },
        "id": "DJzDzDom8ncO",
        "outputId": "8274b5dc-16dc-45ea-ed57-7bf6c540c1a8"
      },
      "execution_count": null,
      "outputs": [
        {
          "output_type": "execute_result",
          "data": {
            "text/plain": [
              "Text(0, 0.5, 'y train data')"
            ]
          },
          "metadata": {},
          "execution_count": 6
        },
        {
          "output_type": "display_data",
          "data": {
            "text/plain": [
              "<Figure size 640x480 with 1 Axes>"
            ],
            "image/png": "[encoded data removed]"
          },
          "metadata": {}
        }
      ]
    },
    {
      "cell_type": "code",
      "source": [
        "n=np.size(xtrain)\n",
        "print(n)"
      ],
      "metadata": {
        "id": "OXChXyZS9eiV",
        "colab": {
          "base_uri": "https://localhost:8080/"
        },
        "outputId": "a8edc073-c422-4cad-bd65-6d9f17f05b1c"
      },
      "execution_count": null,
      "outputs": [
        {
          "output_type": "stream",
          "name": "stdout",
          "text": [
            "7\n"
          ]
        }
      ]
    },
    {
      "cell_type": "code",
      "source": [
        "mean_x=np.mean(xtrain)\n",
        "mean_y=np.mean(ytrain)\n",
        "print(\"mean x: \",mean_x,\"mean y: \",mean_y)"
      ],
      "metadata": {
        "colab": {
          "base_uri": "https://localhost:8080/"
        },
        "id": "k6lHoTXq9lot",
        "outputId": "ab54d4e4-2da0-4464-e4aa-66e43cf0d4fc"
      },
      "execution_count": null,
      "outputs": [
        {
          "output_type": "stream",
          "name": "stdout",
          "text": [
            "mean x:  4.571428571428571 mean y:  1.8714285714285714\n"
          ]
        }
      ]
    },
    {
      "cell_type": "code",
      "source": [
        "sum_x=np.sum(xtrain)\n",
        "sum_y=np.sum(ytrain)\n",
        "print(\"sum x:\",sum_x,\"sum y: \",sum_y)"
      ],
      "metadata": {
        "colab": {
          "base_uri": "https://localhost:8080/"
        },
        "id": "mG2vukUs-BLH",
        "outputId": "2ac294e7-b89d-461c-e0ae-f4c7908268c3"
      },
      "execution_count": null,
      "outputs": [
        {
          "output_type": "stream",
          "name": "stdout",
          "text": [
            "sum x: 32 sum y:  13.1\n"
          ]
        }
      ]
    },
    {
      "cell_type": "code",
      "source": [
        "sum_xy=np.sum(xtrain*ytrain)\n",
        "print(\"sum xy: \",sum_xy)"
      ],
      "metadata": {
        "colab": {
          "base_uri": "https://localhost:8080/"
        },
        "id": "LjHMC6Fa-clk",
        "outputId": "c8ec3dff-5756-470b-b58d-a8475aef9e66"
      },
      "execution_count": null,
      "outputs": [
        {
          "output_type": "stream",
          "name": "stdout",
          "text": [
            "sum xy:  94.8\n"
          ]
        }
      ]
    },
    {
      "cell_type": "code",
      "source": [
        "sumx_sq=np.sum(xtrain*xtrain)\n",
        "print(\"sum x2:\",sumx_sq)"
      ],
      "metadata": {
        "colab": {
          "base_uri": "https://localhost:8080/"
        },
        "id": "Dy3-H7rb-3hP",
        "outputId": "b92cfcce-e662-4e38-d60e-d92d03bb26a2"
      },
      "execution_count": null,
      "outputs": [
        {
          "output_type": "stream",
          "name": "stdout",
          "text": [
            "sum x2: 204\n"
          ]
        }
      ]
    },
    {
      "cell_type": "code",
      "source": [
        "num1=n*sum_xy-(sum_x*sum_y)\n",
        "den1=n*sumx_sq-(sum_x**2)\n",
        "beta1=num1/den1\n",
        "beta1"
      ],
      "metadata": {
        "colab": {
          "base_uri": "https://localhost:8080/"
        },
        "id": "mPA-tvEH_Znz",
        "outputId": "273aa856-9190-47b9-e4a5-72ab204c46dd"
      },
      "execution_count": null,
      "outputs": [
        {
          "output_type": "execute_result",
          "data": {
            "text/plain": [
              "0.604950495049505"
            ]
          },
          "metadata": {},
          "execution_count": 10
        }
      ]
    },
    {
      "cell_type": "code",
      "source": [
        "beta0=mean_y-(beta1*mean_x)\n",
        "print(beta1,beta0)"
      ],
      "metadata": {
        "colab": {
          "base_uri": "https://localhost:8080/"
        },
        "id": "pCbgw0UQAwna",
        "outputId": "b8addeca-2aed-40f4-fb80-f21c3e27a5c9"
      },
      "execution_count": null,
      "outputs": [
        {
          "output_type": "stream",
          "name": "stdout",
          "text": [
            "0.604950495049505 -0.8940594059405944\n"
          ]
        }
      ]
    },
    {
      "cell_type": "code",
      "source": [
        "ytrain_pred=beta0+beta1*xtrain\n",
        "print(ytrain_pred)"
      ],
      "metadata": {
        "colab": {
          "base_uri": "https://localhost:8080/"
        },
        "id": "Zyr9vmW-BMdl",
        "outputId": "b93ad9a0-dc5f-4c5a-bf53-8662ecf6c3ae"
      },
      "execution_count": null,
      "outputs": [
        {
          "output_type": "stream",
          "name": "stdout",
          "text": [
            "[-0.28910891  0.31584158  0.92079208  1.52574257  2.13069307  3.34059406\n",
            "  5.15544554]\n"
          ]
        }
      ]
    },
    {
      "cell_type": "code",
      "source": [
        "plt.scatter(xtrain,ytrain)\n",
        "plt.plot(xtrain,ytrain_pred,'r')\n",
        "plt.show()"
      ],
      "metadata": {
        "colab": {
          "base_uri": "https://localhost:8080/",
          "height": 430
        },
        "id": "toqPUb8UBtyw",
        "outputId": "24ada8b7-a203-43d4-8d56-4ffaa5a86560"
      },
      "execution_count": null,
      "outputs": [
        {
          "output_type": "display_data",
          "data": {
            "text/plain": [
              "<Figure size 640x480 with 1 Axes>"
            ],
            "image/png": "[encoded data removed]"
          },
          "metadata": {}
        }
      ]
    },
    {
      "cell_type": "code",
      "source": [
        "import statsmodels.api as sm"
      ],
      "metadata": {
        "id": "k3WNm4onB_vv"
      },
      "execution_count": null,
      "outputs": []
    },
    {
      "cell_type": "code",
      "source": [
        "xtnew=sm.add_constant(xtrain)\n",
        "print(xtnew)"
      ],
      "metadata": {
        "colab": {
          "base_uri": "https://localhost:8080/"
        },
        "id": "Lmj3AnfNCH3_",
        "outputId": "8179b4a7-3fd1-4db3-b109-8d73a71cc7cd"
      },
      "execution_count": null,
      "outputs": [
        {
          "output_type": "stream",
          "name": "stdout",
          "text": [
            "[[ 1.  1.]\n",
            " [ 1.  2.]\n",
            " [ 1.  3.]\n",
            " [ 1.  4.]\n",
            " [ 1.  5.]\n",
            " [ 1.  7.]\n",
            " [ 1. 10.]]\n"
          ]
        }
      ]
    },
    {
      "cell_type": "code",
      "source": [
        "ytrain_pred=sm.OLS(ytrain,xtnew).fit()\n",
        "print(ytrain_pred.params)"
      ],
      "metadata": {
        "colab": {
          "base_uri": "https://localhost:8080/"
        },
        "id": "UySppXDwCUrl",
        "outputId": "b69c2b64-961c-48cd-db29-0eec4410c830"
      },
      "execution_count": null,
      "outputs": [
        {
          "output_type": "stream",
          "name": "stdout",
          "text": [
            "[-0.89405941  0.6049505 ]\n"
          ]
        }
      ]
    },
    {
      "cell_type": "code",
      "source": [
        "xtest=np.array([12,15,20])\n",
        "xtestnew=sm.add_constant(xtest)\n",
        "pred_y=ytrain_pred.predict(xtestnew)\n",
        "print(pred_y)"
      ],
      "metadata": {
        "colab": {
          "base_uri": "https://localhost:8080/"
        },
        "id": "4mJa-O4iC4jX",
        "outputId": "9bffb60d-f019-4ed8-8cf8-d272a3d4036d"
      },
      "execution_count": null,
      "outputs": [
        {
          "output_type": "stream",
          "name": "stdout",
          "text": [
            "[ 6.36534653  8.18019802 11.2049505 ]\n"
          ]
        }
      ]
    },
    {
      "cell_type": "code",
      "source": [
        "pred_y1=beta0+(beta1*xtest)\n",
        "print(pred_y1)\n"
      ],
      "metadata": {
        "colab": {
          "base_uri": "https://localhost:8080/"
        },
        "id": "rvFUx4vtD9SC",
        "outputId": "bc56f87f-c4df-4eb9-a9ca-35c29c1fe7f3"
      },
      "execution_count": null,
      "outputs": [
        {
          "output_type": "stream",
          "name": "stdout",
          "text": [
            "[ 6.36534653  8.18019802 11.2049505 ]\n"
          ]
        }
      ]
    },
    {
      "cell_type": "code",
      "source": [
        "y_testre=np.array([5,5,6,7])\n",
        "er=y_testre-pred_y1"
      ],
      "metadata": {
        "id": "9hxTgZW2Llrr",
        "colab": {
          "base_uri": "https://localhost:8080/",
          "height": 159
        },
        "outputId": "2279ff9e-d5d6-4d53-fa0d-06a295d7bc48"
      },
      "execution_count": null,
      "outputs": [
        {
          "output_type": "error",
          "ename": "ValueError",
          "evalue": "operands could not be broadcast together with shapes (4,) (3,) ",
          "traceback": [
            "\u001b[0;31m---------------------------------------------------------------------------\u001b[0m",
            "\u001b[0;31mValueError\u001b[0m                                Traceback (most recent call last)",
            "\u001b[0;32m<ipython-input-19-e06eaf394227>\u001b[0m in \u001b[0;36m<cell line: 2>\u001b[0;34m()\u001b[0m\n\u001b[1;32m      1\u001b[0m \u001b[0my_testre\u001b[0m\u001b[0;34m=\u001b[0m\u001b[0mnp\u001b[0m\u001b[0;34m.\u001b[0m\u001b[0marray\u001b[0m\u001b[0;34m(\u001b[0m\u001b[0;34m[\u001b[0m\u001b[0;36m5\u001b[0m\u001b[0;34m,\u001b[0m\u001b[0;36m5\u001b[0m\u001b[0;34m,\u001b[0m\u001b[0;36m6\u001b[0m\u001b[0;34m,\u001b[0m\u001b[0;36m7\u001b[0m\u001b[0;34m]\u001b[0m\u001b[0;34m)\u001b[0m\u001b[0;34m\u001b[0m\u001b[0;34m\u001b[0m\u001b[0m\n\u001b[0;32m----> 2\u001b[0;31m \u001b[0mer\u001b[0m\u001b[0;34m=\u001b[0m\u001b[0my_testre\u001b[0m\u001b[0;34m-\u001b[0m\u001b[0mpred_y1\u001b[0m\u001b[0;34m\u001b[0m\u001b[0;34m\u001b[0m\u001b[0m\n\u001b[0m",
            "\u001b[0;31mValueError\u001b[0m: operands could not be broadcast together with shapes (4,) (3,) "
          ]
        }
      ]
    }
  ]
}